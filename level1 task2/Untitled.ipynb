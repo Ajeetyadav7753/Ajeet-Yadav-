{
 "cells": [
  {
   "cell_type": "code",
   "execution_count": 1,
   "id": "b2c4b98f-6793-4102-b012-0192b6deda45",
   "metadata": {},
   "outputs": [],
   "source": [
    "import pandas as pd"
   ]
  },
  {
   "cell_type": "code",
   "execution_count": 3,
   "id": "4ce86464-9296-4d49-8f9b-dfadd67d0fac",
   "metadata": {},
   "outputs": [],
   "source": [
    "df = pd.read_csv(\"restaurant_data.csv\")"
   ]
  },
  {
   "cell_type": "code",
   "execution_count": 4,
   "id": "3ae3b3ff-99ab-48d0-917f-ab8b043e453d",
   "metadata": {},
   "outputs": [
    {
     "name": "stdout",
     "output_type": "stream",
     "text": [
      "<class 'pandas.core.frame.DataFrame'>\n",
      "RangeIndex: 9551 entries, 0 to 9550\n",
      "Data columns (total 21 columns):\n",
      " #   Column                Non-Null Count  Dtype  \n",
      "---  ------                --------------  -----  \n",
      " 0   Restaurant ID         9551 non-null   int64  \n",
      " 1   Restaurant Name       9551 non-null   object \n",
      " 2   Country Code          9551 non-null   int64  \n",
      " 3   City                  9551 non-null   object \n",
      " 4   Address               9551 non-null   object \n",
      " 5   Locality              9551 non-null   object \n",
      " 6   Locality Verbose      9551 non-null   object \n",
      " 7   Longitude             9551 non-null   float64\n",
      " 8   Latitude              9551 non-null   float64\n",
      " 9   Cuisines              9542 non-null   object \n",
      " 10  Average Cost for two  9551 non-null   int64  \n",
      " 11  Currency              9551 non-null   object \n",
      " 12  Has Table booking     9551 non-null   object \n",
      " 13  Has Online delivery   9551 non-null   object \n",
      " 14  Is delivering now     9551 non-null   object \n",
      " 15  Switch to order menu  9551 non-null   object \n",
      " 16  Price range           9551 non-null   int64  \n",
      " 17  Aggregate rating      9551 non-null   float64\n",
      " 18  Rating color          9551 non-null   object \n",
      " 19  Rating text           9551 non-null   object \n",
      " 20  Votes                 9551 non-null   int64  \n",
      "dtypes: float64(3), int64(5), object(13)\n",
      "memory usage: 1.5+ MB\n"
     ]
    }
   ],
   "source": [
    "df.head()\n",
    "df.info()"
   ]
  },
  {
   "cell_type": "code",
   "execution_count": 5,
   "id": "975b7dcb-dbe8-4f96-9b3b-d211c2ad9047",
   "metadata": {},
   "outputs": [
    {
     "name": "stdout",
     "output_type": "stream",
     "text": [
      "City with the highest number of restaurants: New Delhi\n"
     ]
    }
   ],
   "source": [
    "city_restaurant_count = df['City'].value_counts()\n",
    "top_city = city_restaurant_count.idxmax()\n",
    "print(\"City with the highest number of restaurants:\", top_city)"
   ]
  },
  {
   "cell_type": "code",
   "execution_count": 6,
   "id": "10c5e196-4248-4720-b751-b2187760bec5",
   "metadata": {},
   "outputs": [
    {
     "name": "stdout",
     "output_type": "stream",
     "text": [
      "City\n",
      "Inner City          4.900000\n",
      "Quezon City         4.800000\n",
      "Makati City         4.650000\n",
      "Pasig City          4.633333\n",
      "Mandaluyong City    4.625000\n",
      "                      ...   \n",
      "New Delhi           2.438845\n",
      "Montville           2.400000\n",
      "Mc Millan           2.400000\n",
      "Noida               2.036204\n",
      "Faridabad           1.866932\n",
      "Name: Aggregate rating, Length: 141, dtype: float64\n"
     ]
    }
   ],
   "source": [
    "city_avg_rating = df.groupby('City')['Aggregate rating'].mean().sort_values(ascending=False)\n",
    "print(city_avg_rating)"
   ]
  },
  {
   "cell_type": "code",
   "execution_count": 7,
   "id": "72504c1a-26c9-42da-84b0-707678ada910",
   "metadata": {},
   "outputs": [
    {
     "name": "stdout",
     "output_type": "stream",
     "text": [
      "City with the highest average rating: Inner City (4.90)\n"
     ]
    }
   ],
   "source": [
    "top_rated_city = city_avg_rating.idxmax()\n",
    "highest_avg_rating = city_avg_rating.max()\n",
    "\n",
    "print(f\"City with the highest average rating: {top_rated_city} ({highest_avg_rating:.2f})\")"
   ]
  },
  {
   "cell_type": "code",
   "execution_count": 9,
   "id": "0f4e9d4c-22a0-4f6b-9112-1c933255ec35",
   "metadata": {},
   "outputs": [],
   "source": [
    "filtered_df = df[df['Aggregate rating'] > 0]\n",
    "city_avg_rating = filtered_df.groupby('City')['Aggregate rating'].mean().sort_values(ascending=False)"
   ]
  },
  {
   "cell_type": "code",
   "execution_count": null,
   "id": "02565333-f9ce-46d5-92fd-0245fb131e09",
   "metadata": {},
   "outputs": [],
   "source": []
  }
 ],
 "metadata": {
  "kernelspec": {
   "display_name": "Python 3 (ipykernel)",
   "language": "python",
   "name": "python3"
  },
  "language_info": {
   "codemirror_mode": {
    "name": "ipython",
    "version": 3
   },
   "file_extension": ".py",
   "mimetype": "text/x-python",
   "name": "python",
   "nbconvert_exporter": "python",
   "pygments_lexer": "ipython3",
   "version": "3.13.5"
  }
 },
 "nbformat": 4,
 "nbformat_minor": 5
}
